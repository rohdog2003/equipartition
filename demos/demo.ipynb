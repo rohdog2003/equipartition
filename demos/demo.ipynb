{
 "cells": [
  {
   "cell_type": "code",
   "execution_count": 1,
   "id": "4f7b778c-95f9-4bdb-8ed5-812146670749",
   "metadata": {},
   "outputs": [],
   "source": [
    "import numpy as np\n",
    "import pandas as pd\n",
    "import matplotlib\n",
    "import matplotlib.pyplot as plt\n",
    "from equipartition import Equipartition\n",
    "import time"
   ]
  },
  {
   "cell_type": "markdown",
   "id": "60891c55-5d8f-4787-b5ce-91900692a7fa",
   "metadata": {},
   "source": [
    "equipartition is a vectorized python library used to compute equipartition energies, radii, etc., using the prescription in Matsumoto and Piran 2023 (MP23). Units are cgs and Gaussian but observables are placed into the Equipartition constructor with the following units:\n",
    "- flux: millijansky\n",
    "- peak frequency: Hz/$10^{10}$\n",
    "- observer time: days\n",
    "- redshift: unitless\n",
    "- viewing angle: radians\n",
    "- radius (optional): cm/$10^{17}$\n",
    "- minimum frequency (optional): Hz/$10^{10}$\n",
    "- absorption frequency (optional): Hz/$10^{10}$\n",
    "- area filling factor (optional): unitless\n",
    "- volume filling factor (optional): unitless\n",
    "\n",
    "First we import some data from something like a spreadsheet."
   ]
  },
  {
   "cell_type": "code",
   "execution_count": 3,
   "id": "d515ca5f-b78b-4925-a4c7-0afd83ff5478",
   "metadata": {},
   "outputs": [
    {
     "data": {
      "text/html": [
       "<div>\n",
       "<style scoped>\n",
       "    .dataframe tbody tr th:only-of-type {\n",
       "        vertical-align: middle;\n",
       "    }\n",
       "\n",
       "    .dataframe tbody tr th {\n",
       "        vertical-align: top;\n",
       "    }\n",
       "\n",
       "    .dataframe thead th {\n",
       "        text-align: right;\n",
       "    }\n",
       "</style>\n",
       "<table border=\"1\" class=\"dataframe\">\n",
       "  <thead>\n",
       "    <tr style=\"text-align: right;\">\n",
       "      <th></th>\n",
       "      <th>δt</th>\n",
       "      <th>-</th>\n",
       "      <th>Fp [mJy]</th>\n",
       "      <th>+</th>\n",
       "      <th>-.1</th>\n",
       "      <th>log(νp)</th>\n",
       "      <th>+.1</th>\n",
       "      <th>z</th>\n",
       "    </tr>\n",
       "  </thead>\n",
       "  <tbody>\n",
       "    <tr>\n",
       "      <th>0</th>\n",
       "      <td>52</td>\n",
       "      <td>0.09</td>\n",
       "      <td>0.47</td>\n",
       "      <td>0.06</td>\n",
       "      <td>0.09</td>\n",
       "      <td>10.20</td>\n",
       "      <td>0.10</td>\n",
       "      <td>0.051</td>\n",
       "    </tr>\n",
       "    <tr>\n",
       "      <th>1</th>\n",
       "      <td>55</td>\n",
       "      <td>0.04</td>\n",
       "      <td>0.60</td>\n",
       "      <td>0.03</td>\n",
       "      <td>0.09</td>\n",
       "      <td>10.32</td>\n",
       "      <td>0.13</td>\n",
       "      <td>0.051</td>\n",
       "    </tr>\n",
       "    <tr>\n",
       "      <th>2</th>\n",
       "      <td>60</td>\n",
       "      <td>0.01</td>\n",
       "      <td>0.67</td>\n",
       "      <td>0.01</td>\n",
       "      <td>0.03</td>\n",
       "      <td>10.26</td>\n",
       "      <td>0.03</td>\n",
       "      <td>0.051</td>\n",
       "    </tr>\n",
       "    <tr>\n",
       "      <th>3</th>\n",
       "      <td>80</td>\n",
       "      <td>0.06</td>\n",
       "      <td>0.80</td>\n",
       "      <td>0.06</td>\n",
       "      <td>0.06</td>\n",
       "      <td>10.14</td>\n",
       "      <td>0.05</td>\n",
       "      <td>0.051</td>\n",
       "    </tr>\n",
       "    <tr>\n",
       "      <th>4</th>\n",
       "      <td>82</td>\n",
       "      <td>0.03</td>\n",
       "      <td>0.65</td>\n",
       "      <td>0.03</td>\n",
       "      <td>0.03</td>\n",
       "      <td>10.03</td>\n",
       "      <td>0.03</td>\n",
       "      <td>0.051</td>\n",
       "    </tr>\n",
       "    <tr>\n",
       "      <th>5</th>\n",
       "      <td>130</td>\n",
       "      <td>0.05</td>\n",
       "      <td>1.24</td>\n",
       "      <td>0.05</td>\n",
       "      <td>0.04</td>\n",
       "      <td>10.01</td>\n",
       "      <td>0.04</td>\n",
       "      <td>0.051</td>\n",
       "    </tr>\n",
       "    <tr>\n",
       "      <th>6</th>\n",
       "      <td>161</td>\n",
       "      <td>0.04</td>\n",
       "      <td>0.98</td>\n",
       "      <td>0.04</td>\n",
       "      <td>0.03</td>\n",
       "      <td>9.98</td>\n",
       "      <td>0.04</td>\n",
       "      <td>0.051</td>\n",
       "    </tr>\n",
       "    <tr>\n",
       "      <th>7</th>\n",
       "      <td>188</td>\n",
       "      <td>0.04</td>\n",
       "      <td>1.22</td>\n",
       "      <td>0.04</td>\n",
       "      <td>0.02</td>\n",
       "      <td>9.71</td>\n",
       "      <td>0.04</td>\n",
       "      <td>0.051</td>\n",
       "    </tr>\n",
       "    <tr>\n",
       "      <th>8</th>\n",
       "      <td>300</td>\n",
       "      <td>0.04</td>\n",
       "      <td>0.79</td>\n",
       "      <td>0.04</td>\n",
       "      <td>0.05</td>\n",
       "      <td>9.55</td>\n",
       "      <td>0.03</td>\n",
       "      <td>0.051</td>\n",
       "    </tr>\n",
       "    <tr>\n",
       "      <th>9</th>\n",
       "      <td>561</td>\n",
       "      <td>0.04</td>\n",
       "      <td>0.34</td>\n",
       "      <td>0.03</td>\n",
       "      <td>0.11</td>\n",
       "      <td>9.23</td>\n",
       "      <td>0.11</td>\n",
       "      <td>0.051</td>\n",
       "    </tr>\n",
       "  </tbody>\n",
       "</table>\n",
       "</div>"
      ],
      "text/plain": [
       "    δt     -  Fp [mJy]     +   -.1  log(νp)   +.1      z\n",
       "0   52  0.09      0.47  0.06  0.09    10.20  0.10  0.051\n",
       "1   55  0.04      0.60  0.03  0.09    10.32  0.13  0.051\n",
       "2   60  0.01      0.67  0.01  0.03    10.26  0.03  0.051\n",
       "3   80  0.06      0.80  0.06  0.06    10.14  0.05  0.051\n",
       "4   82  0.03      0.65  0.03  0.03    10.03  0.03  0.051\n",
       "5  130  0.05      1.24  0.05  0.04    10.01  0.04  0.051\n",
       "6  161  0.04      0.98  0.04  0.03     9.98  0.04  0.051\n",
       "7  188  0.04      1.22  0.04  0.02     9.71  0.04  0.051\n",
       "8  300  0.04      0.79  0.04  0.05     9.55  0.03  0.051\n",
       "9  561  0.04      0.34  0.03  0.11     9.23  0.11  0.051"
      ]
     },
     "execution_count": 3,
     "metadata": {},
     "output_type": "execute_result"
    }
   ],
   "source": [
    "fileName = \"Cendes_et_al_2021.xlsx\" # Table 2 data AT 2019dsg of Cendes et al 2021 used in MP23 figure 3\n",
    "\n",
    "data_pd = pd.read_excel(fileName)\n",
    "data = data_pd.to_numpy()\n",
    "data_pd"
   ]
  },
  {
   "cell_type": "code",
   "execution_count": 4,
   "id": "82d43ce7-8df4-4cc0-8dba-67c6d69fb162",
   "metadata": {},
   "outputs": [
    {
     "name": "stdout",
     "output_type": "stream",
     "text": [
      "time in days:\n",
      " [ 60.  80.  82. 130. 161. 188. 300. 561.]\n"
     ]
    }
   ],
   "source": [
    "z = data[:, 7]\n",
    "tdays = data[:, 0]\n",
    "FpmJy = data[:, 2]\n",
    "logNup = data[:, 5]\n",
    "\n",
    "z = z[2:] # drop the lowest two times\n",
    "tdays = tdays[2:]; print(\"time in days:\\n\", tdays)\n",
    "FpmJy = FpmJy[2:]\n",
    "logNup = logNup[2:]\n",
    "\n",
    "nup10 = 10**logNup/1e10\n",
    "\n",
    "theta = np.logspace(-0.6, 0.2, 9)"
   ]
  },
  {
   "cell_type": "code",
   "execution_count": 5,
   "id": "b3e75c02-5e43-4746-becd-c7f8fb24b933",
   "metadata": {},
   "outputs": [
    {
     "name": "stdout",
     "output_type": "stream",
     "text": [
      "time to run Newtonian: 552.0250797271729 ms\n",
      "time to run relativistic: 446.66409492492676 ms\n"
     ]
    }
   ],
   "source": [
    "start = time.time()\n",
    "\n",
    "equip_Newtonian = Equipartition(FpmJy, nup10, tdays, z, 0, newtonian = True)\n",
    "\n",
    "end = time.time()\n",
    "\n",
    "print(\"time to run Newtonian:\", (end - start) * 1000, \"ms\")\n",
    "\n",
    "start = time.time()\n",
    "\n",
    "equip_onAxis = [Equipartition(FpmJy, nup10, tdays, z, thet, newtonian = False, onAxis = True) for thet in theta] # solving ~70 four velocities\n",
    "equip_offAxis = [Equipartition(FpmJy, nup10, tdays, z, thet, newtonian = False, onAxis = False) for thet in theta] # solving ~70 four velocities\n",
    "\n",
    "end = time.time()\n",
    "print(\"time to run relativistic:\", (end - start) * 1000, \"ms\")"
   ]
  },
  {
   "cell_type": "markdown",
   "id": "ebc6698f-e932-4c22-819d-dbd958d59b27",
   "metadata": {},
   "source": [
    "The equipartition energy and radii can be found by calling the relevant methods on the Equipartition instance."
   ]
  },
  {
   "cell_type": "code",
   "execution_count": 7,
   "id": "dc4e0ee6-3cab-4b8b-a30f-4fa75a0e00c3",
   "metadata": {},
   "outputs": [
    {
     "name": "stdout",
     "output_type": "stream",
     "text": [
      "Newtonian equipartition energy:\n",
      " [3.91626006e+46 6.36030033e+46 6.41781908e+46 1.43680314e+47\n",
      " 1.16725875e+47 2.81247845e+47 2.43809535e+47 1.88924434e+47]\n"
     ]
    }
   ],
   "source": [
    "energyeq_Newtonian = equip_Newtonian.energyeq(); print(\"Newtonian equipartition energy:\\n\", energyeq_Newtonian)"
   ]
  },
  {
   "cell_type": "code",
   "execution_count": 8,
   "id": "331e49bb-d536-4109-9b3c-58ebdaf8165a",
   "metadata": {},
   "outputs": [
    {
     "name": "stdout",
     "output_type": "stream",
     "text": [
      "on axis equipartition energy:\n",
      " [3.93724402e+46 6.39886517e+46 6.46667996e+46 1.44582206e+47\n",
      " 1.17200622e+47 2.84322114e+47 2.45368765e+47 1.89668220e+47]\n"
     ]
    }
   ],
   "source": [
    "energyeq_onAxisLargestAngle = equip_onAxis[-1].energyeq(); print(\"on axis equipartition energy:\\n\", energyeq_onAxisLargestAngle)"
   ]
  },
  {
   "cell_type": "code",
   "execution_count": 9,
   "id": "5ae950fb-d448-475d-99a0-55a31583d27b",
   "metadata": {},
   "outputs": [
    {
     "name": "stdout",
     "output_type": "stream",
     "text": [
      "off axis equipartition energy:\n",
      " [8.49982230e+49 1.15073811e+50 8.33949914e+49 2.47102782e+50\n",
      " 3.82462026e+50 2.18130045e+50 4.08032448e+50 6.50259424e+50]\n"
     ]
    }
   ],
   "source": [
    "energyeq_offAxisLargestAngle = equip_offAxis[-1].energyeq(); print(\"off axis equipartition energy:\\n\", energyeq_offAxisLargestAngle)"
   ]
  },
  {
   "cell_type": "code",
   "execution_count": 10,
   "id": "dda72943-c433-460d-a6e2-4d9704b30d92",
   "metadata": {},
   "outputs": [
    {
     "name": "stdout",
     "output_type": "stream",
     "text": [
      "Newtonian equipartition radius:\n",
      " [6.76057920e+15 9.68782633e+15 1.13185367e+16 1.60617996e+16\n",
      " 1.54064348e+16 3.18032115e+16 3.74675737e+16 5.26442020e+16]\n"
     ]
    }
   ],
   "source": [
    "Req_Newtonian = equip_Newtonian.Req(); print(\"Newtonian equipartition radius:\\n\", Req_Newtonian)"
   ]
  },
  {
   "cell_type": "code",
   "execution_count": 11,
   "id": "38f08d31-0887-4b94-a0a1-ae1bf65a87a3",
   "metadata": {},
   "outputs": [
    {
     "name": "stdout",
     "output_type": "stream",
     "text": [
      "on axis equipartition radius:\n",
      " [6.77242094e+15 9.70723552e+15 1.13475344e+16 1.60952097e+16\n",
      " 1.54263939e+16 3.19231947e+16 3.75471002e+16 5.27100039e+16]\n"
     ]
    }
   ],
   "source": [
    "Req_onAxisLargestAngle = equip_onAxis[-1].Req(); print(\"on axis equipartition radius:\\n\", Req_onAxisLargestAngle)"
   ]
  },
  {
   "cell_type": "code",
   "execution_count": 12,
   "id": "7864f4cd-4562-4ce1-95eb-6104932cd162",
   "metadata": {},
   "outputs": [
    {
     "name": "stdout",
     "output_type": "stream",
     "text": [
      "off axis equipartition radius:\n",
      " [1.44869023e+17 1.93021102e+17 1.97549374e+17 3.13592754e+17\n",
      " 3.89261943e+17 4.51561360e+17 7.23591191e+17 1.35656547e+18]\n"
     ]
    }
   ],
   "source": [
    "Req_offAxisLargestAngle = equip_offAxis[-1].Req(); print(\"off axis equipartition radius:\\n\", Req_offAxisLargestAngle)"
   ]
  },
  {
   "cell_type": "markdown",
   "id": "fd8311d9-5206-4393-a34b-4d1af225deec",
   "metadata": {},
   "source": [
    "Next we will reproduce the MP23 figure 9 plot using matplotlib."
   ]
  },
  {
   "cell_type": "code",
   "execution_count": 14,
   "id": "2a18d9da-86e6-47e3-baad-1c92ae8ac485",
   "metadata": {},
   "outputs": [
    {
     "name": "stderr",
     "output_type": "stream",
     "text": [
      "C:\\Users\\rohdo\\AppData\\Local\\Temp\\ipykernel_28072\\3328169649.py:67: UserWarning: The figure layout has changed to tight\n",
      "  plt.tight_layout()\n"
     ]
    },
    {
     "data": {
      "image/png": "[encoded data removed]",
      "text/plain": [
       "<Figure size 400x1100 with 5 Axes>"
      ]
     },
     "metadata": {},
     "output_type": "display_data"
    }
   ],
   "source": [
    "cmap = plt.cm.jet  # define the colormap\n",
    "# extract all colors from the .jet map\n",
    "cmaplist = [cmap(i) for i in range(cmap.N)]\n",
    "# force the first color entry to be grey\n",
    "#cmaplist[0] = (.5, .5, .5, 1.0)\n",
    "# create the new map\n",
    "cmap = matplotlib.colors.LinearSegmentedColormap.from_list('Custom cmap', cmaplist, cmap.N)\n",
    "# define the bins and normalize\n",
    "bounds = np.arange(-0.6, 0.2 + 1e-14, 0.1)\n",
    "norm = matplotlib.colors.BoundaryNorm(bounds, cmap.N)\n",
    "\n",
    "fig, ax = plt.subplots(4, 1, layout='constrained', figsize=(4,11))\n",
    "ax1 = ax[0]\n",
    "ax2 = ax[1]\n",
    "ax3 = ax[2]\n",
    "ax4 = ax[3]\n",
    "\n",
    "xleft = 55\n",
    "xright = 600\n",
    "\n",
    "ax1.set_title(\"AT 2019dsg\")\n",
    "ax1.set_xscale(\"log\")\n",
    "ax1.set_xlim(xleft, xright)\n",
    "ax1.set_yscale(\"log\")\n",
    "ax1.set_ylim(1e-2, 1)\n",
    "ax1.set_ylabel(r\"$\\beta_{eq, N}$\")\n",
    "ax1.axhline(0.23, color = \"gray\")\n",
    "ax1.plot(tdays, equip_Newtonian.betaeqN(), color = \"k\", marker = \"o\")\n",
    "\n",
    "#plt.subplot(4, 1, 2)\n",
    "ax2.set_xscale(\"log\")\n",
    "ax2.set_xlim(xleft, xright)\n",
    "ax2.set_yscale(\"log\")\n",
    "ax2.set_ylim(1e-2, 1e2)\n",
    "ax2.set_ylabel(r\"$\\Gamma\\beta$\")\n",
    "ax2.plot(tdays, equip_Newtonian.gammaBeta(), color = \"k\", marker = \"o\")\n",
    "for i in range(0, len(theta) - 1):\n",
    "    #ax2.plot(tdays, equip_onAxis[i].gammaBeta(), color = cmap(norm(np.log10(theta[i]))), alpha = 0.5)#; print(equip_onAxis[i].gammaBulk())\n",
    "    #ax2.plot(tdays, equip_offAxis[i].gammaBeta(), color = cmap(norm(np.log10(theta[i]))), alpha = 0.5)#; print(equip_offAxis[i].gammaBeta())\n",
    "    ax2.fill_between(tdays, equip_onAxis[i].gammaBeta(), equip_onAxis[i + 1].gammaBeta(), color = cmap(norm(np.log10(theta[i])/2 + np.log10(theta[i + 1])/2)))\n",
    "    ax2.fill_between(tdays, equip_offAxis[i].gammaBeta(), equip_offAxis[i + 1].gammaBeta(), color = cmap(norm(np.log10(theta[i])/2 + np.log10(theta[i + 1])/2)))\n",
    "\n",
    "#plt.subplot(4, 1, 3)\n",
    "ax3.set_xscale(\"log\")\n",
    "ax3.set_xlim(xleft, xright)\n",
    "ax3.set_yscale(\"log\")\n",
    "ax3.set_ylim(3e15, 3e18)\n",
    "ax3.set_ylabel(r\"$R_{eq}$ [cm]\")\n",
    "ax3.plot(tdays, equip_Newtonian.Req(), color = \"k\", marker = \"o\")\n",
    "for i in range(0, len(theta) - 1):\n",
    "    ax3.fill_between(tdays, equip_onAxis[i].Req(), equip_onAxis[i + 1].Req(), color = cmap(norm(np.log10(theta[i])/2 + np.log10(theta[i + 1])/2)))\n",
    "    ax3.fill_between(tdays, equip_offAxis[i].Req(), equip_offAxis[i + 1].Req(), color = cmap(norm(np.log10(theta[i])/2 + np.log10(theta[i + 1])/2)))\n",
    "\n",
    "#plt.subplot(4, 1, 4)\n",
    "ax4.set_xscale(\"log\")\n",
    "ax4.set_xlim(xleft, xright)\n",
    "ax4.set_yscale(\"log\")\n",
    "ax4.set_xlabel(r\"Time since outflow launch : $t$ [day]\")\n",
    "ax4.set_ylim(1e46, 3e51)\n",
    "ax4.set_ylabel(r\"$E_{eq}$ [erg]\")\n",
    "ax4.plot(tdays, equip_Newtonian.energyeq(), color = \"k\", marker = \"o\")#, lw = 0.5)\n",
    "for i in range(0, len(theta) - 1):\n",
    "    ax4.fill_between(tdays, equip_onAxis[i].energyeq(), equip_onAxis[i + 1].energyeq(), color = cmap(norm(np.log10(theta[i])/2 + np.log10(theta[i + 1])/2)))\n",
    "    ax4.fill_between(tdays, equip_offAxis[i].energyeq(), equip_offAxis[i + 1].energyeq(), color = cmap(norm(np.log10(theta[i])/2 + np.log10(theta[i + 1])/2)))\n",
    "\n",
    "#plt.colorbar.ColorbarBase(ax2, cmap=cmap, norm=norm, spacing='proportional', ticks=bounds, boundaries=bounds, format='%1i')\n",
    "plt.tight_layout()\n",
    "cax = fig.add_axes([0.44, 0.315, 0.5, 0.005])\n",
    "cbar = plt.colorbar(matplotlib.cm.ScalarMappable(norm = norm, cmap = cmap), cax = cax, orientation = \"horizontal\", label = r\"$\\log_{10}(\\theta)$\", location = \"top\")\n",
    "cbar.ax.tick_params(labelsize=7)"
   ]
  },
  {
   "cell_type": "markdown",
   "id": "ffa917e4-9ce3-4752-b6e3-a07cb2a65cd9",
   "metadata": {},
   "source": [
    "Using tabulated solutions for the four velocity solution takes less time but yields significantly less accurate results due to the required linear interpolation."
   ]
  },
  {
   "cell_type": "code",
   "execution_count": 16,
   "id": "f66509b5-7c2b-4af7-899a-04edc78bf0cd",
   "metadata": {},
   "outputs": [
    {
     "name": "stdout",
     "output_type": "stream",
     "text": [
      "time to run Newtonian: 62.74247169494629 ms\n",
      "time to run relativistic: 188.45295906066895 ms\n"
     ]
    }
   ],
   "source": [
    "start = time.time()\n",
    "    \n",
    "equip_tableNewtonian = Equipartition(FpmJy, nup10, tdays, z, 0, newtonian = True, table = True)\n",
    "\n",
    "end = time.time()\n",
    "\n",
    "print(\"time to run Newtonian:\", (end - start) * 1000, \"ms\")\n",
    "\n",
    "start = time.time()\n",
    "\n",
    "equip_tableOnAxis = [Equipartition(FpmJy, nup10, tdays, z, thet, newtonian = False, onAxis = True, table = True) for thet in theta]\n",
    "equip_tableOffAxis = [Equipartition(FpmJy, nup10, tdays, z, thet, newtonian = False, onAxis = False, table = True) for thet in theta]\n",
    "\n",
    "end = time.time()\n",
    "print(\"time to run relativistic:\", (end - start) * 1000, \"ms\")"
   ]
  }
 ],
 "metadata": {
  "kernelspec": {
   "display_name": "Python 3 (ipykernel)",
   "language": "python",
   "name": "python3"
  },
  "language_info": {
   "codemirror_mode": {
    "name": "ipython",
    "version": 3
   },
   "file_extension": ".py",
   "mimetype": "text/x-python",
   "name": "python",
   "nbconvert_exporter": "python",
   "pygments_lexer": "ipython3",
   "version": "3.8.20"
  }
 },
 "nbformat": 4,
 "nbformat_minor": 5
}
